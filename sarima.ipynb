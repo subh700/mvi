{
 "cells": [
  {
   "cell_type": "code",
   "execution_count": 5,
   "id": "9f60c1a7",
   "metadata": {},
   "outputs": [],
   "source": [
    "import pandas as pd\n",
    "from statsmodels.tsa.arima.model import ARIMA\n",
    "from statsmodels.tsa.statespace.sarimax import SARIMAX"
   ]
  },
  {
   "cell_type": "code",
   "execution_count": 6,
   "id": "92b3efcc",
   "metadata": {},
   "outputs": [
    {
     "data": {
      "text/html": [
       "<div>\n",
       "<style scoped>\n",
       "    .dataframe tbody tr th:only-of-type {\n",
       "        vertical-align: middle;\n",
       "    }\n",
       "\n",
       "    .dataframe tbody tr th {\n",
       "        vertical-align: top;\n",
       "    }\n",
       "\n",
       "    .dataframe thead th {\n",
       "        text-align: right;\n",
       "    }\n",
       "</style>\n",
       "<table border=\"1\" class=\"dataframe\">\n",
       "  <thead>\n",
       "    <tr style=\"text-align: right;\">\n",
       "      <th></th>\n",
       "      <th>Date</th>\n",
       "      <th>pm25</th>\n",
       "    </tr>\n",
       "  </thead>\n",
       "  <tbody>\n",
       "    <tr>\n",
       "      <th>0</th>\n",
       "      <td>04-02-2019 19:00</td>\n",
       "      <td>70.52</td>\n",
       "    </tr>\n",
       "    <tr>\n",
       "      <th>1</th>\n",
       "      <td>04-02-2019 20:00</td>\n",
       "      <td>61.39</td>\n",
       "    </tr>\n",
       "    <tr>\n",
       "      <th>2</th>\n",
       "      <td>04-02-2019 21:00</td>\n",
       "      <td>59.94</td>\n",
       "    </tr>\n",
       "    <tr>\n",
       "      <th>3</th>\n",
       "      <td>04-02-2019 22:00</td>\n",
       "      <td>76.44</td>\n",
       "    </tr>\n",
       "    <tr>\n",
       "      <th>4</th>\n",
       "      <td>04-02-2019 23:00</td>\n",
       "      <td>98.54</td>\n",
       "    </tr>\n",
       "    <tr>\n",
       "      <th>...</th>\n",
       "      <td>...</td>\n",
       "      <td>...</td>\n",
       "    </tr>\n",
       "    <tr>\n",
       "      <th>33531</th>\n",
       "      <td>02-12-2022 22:00</td>\n",
       "      <td>115.37</td>\n",
       "    </tr>\n",
       "    <tr>\n",
       "      <th>33532</th>\n",
       "      <td>02-12-2022 23:00</td>\n",
       "      <td>104.06</td>\n",
       "    </tr>\n",
       "    <tr>\n",
       "      <th>33533</th>\n",
       "      <td>03-12-2022 00:00</td>\n",
       "      <td>110.59</td>\n",
       "    </tr>\n",
       "    <tr>\n",
       "      <th>33534</th>\n",
       "      <td>03-12-2022 01:00</td>\n",
       "      <td>122.87</td>\n",
       "    </tr>\n",
       "    <tr>\n",
       "      <th>33535</th>\n",
       "      <td>03-12-2022 02:00</td>\n",
       "      <td>122.71</td>\n",
       "    </tr>\n",
       "  </tbody>\n",
       "</table>\n",
       "<p>33536 rows × 2 columns</p>\n",
       "</div>"
      ],
      "text/plain": [
       "                   Date    pm25\n",
       "0      04-02-2019 19:00   70.52\n",
       "1      04-02-2019 20:00   61.39\n",
       "2      04-02-2019 21:00   59.94\n",
       "3      04-02-2019 22:00   76.44\n",
       "4      04-02-2019 23:00   98.54\n",
       "...                 ...     ...\n",
       "33531  02-12-2022 22:00  115.37\n",
       "33532  02-12-2022 23:00  104.06\n",
       "33533  03-12-2022 00:00  110.59\n",
       "33534  03-12-2022 01:00  122.87\n",
       "33535  03-12-2022 02:00  122.71\n",
       "\n",
       "[33536 rows x 2 columns]"
      ]
     },
     "execution_count": 6,
     "metadata": {},
     "output_type": "execute_result"
    }
   ],
   "source": [
    "df=pd.read_csv(\"Ankleshwar.csv\")\n",
    "df=df.iloc[:,1:]\n",
    "df"
   ]
  },
  {
   "cell_type": "code",
   "execution_count": 7,
   "id": "5c29ba07",
   "metadata": {},
   "outputs": [
    {
     "name": "stderr",
     "output_type": "stream",
     "text": [
      "C:\\Users\\Subham\\AppData\\Local\\Packages\\PythonSoftwareFoundation.Python.3.11_qbz5n2kfra8p0\\LocalCache\\local-packages\\Python311\\site-packages\\statsmodels\\tsa\\base\\tsa_model.py:473: ValueWarning: A date index has been provided, but it has no associated frequency information and so will be ignored when e.g. forecasting.\n",
      "  self._init_dates(dates, freq)\n",
      "C:\\Users\\Subham\\AppData\\Local\\Packages\\PythonSoftwareFoundation.Python.3.11_qbz5n2kfra8p0\\LocalCache\\local-packages\\Python311\\site-packages\\statsmodels\\tsa\\base\\tsa_model.py:473: ValueWarning: A date index has been provided, but it has no associated frequency information and so will be ignored when e.g. forecasting.\n",
      "  self._init_dates(dates, freq)\n"
     ]
    },
    {
     "ename": "MemoryError",
     "evalue": "Unable to allocate 560. MiB for an array with shape (51, 51, 28242) and data type float64",
     "output_type": "error",
     "traceback": [
      "\u001b[31m---------------------------------------------------------------------------\u001b[39m",
      "\u001b[31mMemoryError\u001b[39m                               Traceback (most recent call last)",
      "\u001b[36mCell\u001b[39m\u001b[36m \u001b[39m\u001b[32mIn[7]\u001b[39m\u001b[32m, line 26\u001b[39m\n\u001b[32m      9\u001b[39m \u001b[38;5;66;03m# Fit a basic SARIMA model (you may optimize the order parameters)\u001b[39;00m\n\u001b[32m     10\u001b[39m \u001b[38;5;66;03m# Trend Elements\u001b[39;00m\n\u001b[32m     11\u001b[39m \u001b[38;5;66;03m# There are three trend elements that require configuration.\u001b[39;00m\n\u001b[32m   (...)\u001b[39m\u001b[32m     23\u001b[39m \u001b[38;5;66;03m# Q: Seasonal moving average order.\u001b[39;00m\n\u001b[32m     24\u001b[39m \u001b[38;5;66;03m# m: The number of time steps for a single seasonal period.\u001b[39;00m\n\u001b[32m     25\u001b[39m model = SARIMAX(ts_valid, order=(\u001b[32m1\u001b[39m,\u001b[32m1\u001b[39m,\u001b[32m1\u001b[39m), seasonal_order=(\u001b[32m0\u001b[39m,\u001b[32m1\u001b[39m,\u001b[32m1\u001b[39m,\u001b[32m24\u001b[39m))  \u001b[38;5;66;03m# assuming daily seasonality (24-hour cycle)\u001b[39;00m\n\u001b[32m---> \u001b[39m\u001b[32m26\u001b[39m results = \u001b[43mmodel\u001b[49m\u001b[43m.\u001b[49m\u001b[43mfit\u001b[49m\u001b[43m(\u001b[49m\u001b[43mdisp\u001b[49m\u001b[43m=\u001b[49m\u001b[38;5;28;43;01mFalse\u001b[39;49;00m\u001b[43m)\u001b[49m\n\u001b[32m     27\u001b[39m \u001b[38;5;66;03m# Create full predictions for the entire index range\u001b[39;00m\n\u001b[32m     28\u001b[39m ts_pred = results.predict(start=ts.index[\u001b[32m0\u001b[39m], end=ts.index[-\u001b[32m1\u001b[39m])\n",
      "\u001b[36mFile \u001b[39m\u001b[32m~\\AppData\\Local\\Packages\\PythonSoftwareFoundation.Python.3.11_qbz5n2kfra8p0\\LocalCache\\local-packages\\Python311\\site-packages\\statsmodels\\tsa\\statespace\\mlemodel.py:729\u001b[39m, in \u001b[36mMLEModel.fit\u001b[39m\u001b[34m(self, start_params, transformed, includes_fixed, cov_type, cov_kwds, method, maxiter, full_output, disp, callback, return_params, optim_score, optim_complex_step, optim_hessian, flags, low_memory, **kwargs)\u001b[39m\n\u001b[32m    727\u001b[39m \u001b[38;5;28;01melse\u001b[39;00m:\n\u001b[32m    728\u001b[39m     func = \u001b[38;5;28mself\u001b[39m.smooth\n\u001b[32m--> \u001b[39m\u001b[32m729\u001b[39m res = \u001b[43mfunc\u001b[49m\u001b[43m(\u001b[49m\u001b[43mmlefit\u001b[49m\u001b[43m.\u001b[49m\u001b[43mparams\u001b[49m\u001b[43m,\u001b[49m\u001b[43m \u001b[49m\u001b[43mtransformed\u001b[49m\u001b[43m=\u001b[49m\u001b[38;5;28;43;01mFalse\u001b[39;49;00m\u001b[43m,\u001b[49m\u001b[43m \u001b[49m\u001b[43mincludes_fixed\u001b[49m\u001b[43m=\u001b[49m\u001b[38;5;28;43;01mFalse\u001b[39;49;00m\u001b[43m,\u001b[49m\n\u001b[32m    730\u001b[39m \u001b[43m           \u001b[49m\u001b[43mcov_type\u001b[49m\u001b[43m=\u001b[49m\u001b[43mcov_type\u001b[49m\u001b[43m,\u001b[49m\u001b[43m \u001b[49m\u001b[43mcov_kwds\u001b[49m\u001b[43m=\u001b[49m\u001b[43mcov_kwds\u001b[49m\u001b[43m)\u001b[49m\n\u001b[32m    732\u001b[39m res.mlefit = mlefit\n\u001b[32m    733\u001b[39m res.mle_retvals = mlefit.mle_retvals\n",
      "\u001b[36mFile \u001b[39m\u001b[32m~\\AppData\\Local\\Packages\\PythonSoftwareFoundation.Python.3.11_qbz5n2kfra8p0\\LocalCache\\local-packages\\Python311\\site-packages\\statsmodels\\tsa\\statespace\\mlemodel.py:887\u001b[39m, in \u001b[36mMLEModel.smooth\u001b[39m\u001b[34m(self, params, transformed, includes_fixed, complex_step, cov_type, cov_kwds, return_ssm, results_class, results_wrapper_class, **kwargs)\u001b[39m\n\u001b[32m    884\u001b[39m     kwargs[\u001b[33m'\u001b[39m\u001b[33minversion_method\u001b[39m\u001b[33m'\u001b[39m] = INVERT_UNIVARIATE | SOLVE_LU\n\u001b[32m    886\u001b[39m \u001b[38;5;66;03m# Get the state space output\u001b[39;00m\n\u001b[32m--> \u001b[39m\u001b[32m887\u001b[39m result = \u001b[38;5;28;43mself\u001b[39;49m\u001b[43m.\u001b[49m\u001b[43mssm\u001b[49m\u001b[43m.\u001b[49m\u001b[43msmooth\u001b[49m\u001b[43m(\u001b[49m\u001b[43mcomplex_step\u001b[49m\u001b[43m=\u001b[49m\u001b[43mcomplex_step\u001b[49m\u001b[43m,\u001b[49m\u001b[43m \u001b[49m\u001b[43m*\u001b[49m\u001b[43m*\u001b[49m\u001b[43mkwargs\u001b[49m\u001b[43m)\u001b[49m\n\u001b[32m    889\u001b[39m \u001b[38;5;66;03m# Wrap in a results object\u001b[39;00m\n\u001b[32m    890\u001b[39m \u001b[38;5;28;01mreturn\u001b[39;00m \u001b[38;5;28mself\u001b[39m._wrap_results(params, result, return_ssm, cov_type,\n\u001b[32m    891\u001b[39m                           cov_kwds, results_class,\n\u001b[32m    892\u001b[39m                           results_wrapper_class)\n",
      "\u001b[36mFile \u001b[39m\u001b[32m~\\AppData\\Local\\Packages\\PythonSoftwareFoundation.Python.3.11_qbz5n2kfra8p0\\LocalCache\\local-packages\\Python311\\site-packages\\statsmodels\\tsa\\statespace\\kalman_smoother.py:423\u001b[39m, in \u001b[36mKalmanSmoother.smooth\u001b[39m\u001b[34m(self, smoother_output, smooth_method, results, run_filter, prefix, complex_step, update_representation, update_filter, update_smoother, **kwargs)\u001b[39m\n\u001b[32m    421\u001b[39m \u001b[38;5;66;03m# Update the results\u001b[39;00m\n\u001b[32m    422\u001b[39m \u001b[38;5;28;01mif\u001b[39;00m update_smoother:\n\u001b[32m--> \u001b[39m\u001b[32m423\u001b[39m     \u001b[43mresults\u001b[49m\u001b[43m.\u001b[49m\u001b[43mupdate_smoother\u001b[49m\u001b[43m(\u001b[49m\u001b[43msmoother\u001b[49m\u001b[43m)\u001b[49m\n\u001b[32m    425\u001b[39m \u001b[38;5;28;01mreturn\u001b[39;00m results\n",
      "\u001b[36mFile \u001b[39m\u001b[32m~\\AppData\\Local\\Packages\\PythonSoftwareFoundation.Python.3.11_qbz5n2kfra8p0\\LocalCache\\local-packages\\Python311\\site-packages\\statsmodels\\tsa\\statespace\\kalman_smoother.py:676\u001b[39m, in \u001b[36mSmootherResults.update_smoother\u001b[39m\u001b[34m(self, smoother)\u001b[39m\n\u001b[32m    673\u001b[39m         \u001b[38;5;28msetattr\u001b[39m(\u001b[38;5;28mself\u001b[39m, name, matrix)\n\u001b[32m    674\u001b[39m     \u001b[38;5;28;01melse\u001b[39;00m:\n\u001b[32m    675\u001b[39m         \u001b[38;5;28msetattr\u001b[39m(\u001b[38;5;28mself\u001b[39m, name,\n\u001b[32m--> \u001b[39m\u001b[32m676\u001b[39m                 np.array(\u001b[38;5;28mgetattr\u001b[39m(smoother, name, \u001b[38;5;28;01mNone\u001b[39;00m), copy=\u001b[38;5;28;01mTrue\u001b[39;00m))\n\u001b[32m    677\u001b[39m \u001b[38;5;28;01melse\u001b[39;00m:\n\u001b[32m    678\u001b[39m     \u001b[38;5;28msetattr\u001b[39m(\u001b[38;5;28mself\u001b[39m, name, \u001b[38;5;28;01mNone\u001b[39;00m)\n",
      "\u001b[31mMemoryError\u001b[39m: Unable to allocate 560. MiB for an array with shape (51, 51, 28242) and data type float64"
     ]
    }
   ],
   "source": [
    "df['Date'] = pd.to_datetime(df['Date'], format='%d-%m-%Y %H:%M')\n",
    "df.set_index('Date', inplace=True)\n",
    "\n",
    "# Target series\n",
    "ts = df['pm25']\n",
    "# Use data without NaNs for model training\n",
    "ts_valid = ts.dropna()\n",
    "\n",
    "# Fit a basic SARIMA model (you may optimize the order parameters)\n",
    "# Trend Elements\n",
    "# There are three trend elements that require configuration.\n",
    "\n",
    "# They are the same as the ARIMA model; specifically:\n",
    "\n",
    "# p: Trend autoregression order.\n",
    "# d: Trend difference order.\n",
    "# q: Trend moving average order.\n",
    "# Seasonal Elements\n",
    "# There are four seasonal elements that are not part of ARIMA that must be configured; they are:\n",
    "\n",
    "# P: Seasonal autoregressive order.\n",
    "# D: Seasonal difference order.\n",
    "# Q: Seasonal moving average order.\n",
    "# m: The number of time steps for a single seasonal period.\n",
    "model = SARIMAX(ts_valid, order=(1,1,1), seasonal_order=(0,1,1,24))  # assuming daily seasonality (24-hour cycle)\n",
    "results = model.fit(disp=False)\n",
    "# Create full predictions for the entire index range\n",
    "ts_pred = results.predict(start=ts.index[0], end=ts.index[-1])\n",
    "\n",
    "# Fill NaNs with predictions\n",
    "ts_imputed = ts.copy()\n",
    "ts_imputed[ts_imputed.isna()] = ts_pred[ts_imputed.isna()]\n",
    "df['pm25_sarima'] = ts_imputed\n"
   ]
  },
  {
   "cell_type": "code",
   "execution_count": null,
   "id": "574ac8e4",
   "metadata": {},
   "outputs": [
    {
     "name": "stderr",
     "output_type": "stream",
     "text": [
      "C:\\Users\\Subham\\AppData\\Local\\Packages\\PythonSoftwareFoundation.Python.3.11_qbz5n2kfra8p0\\LocalCache\\local-packages\\Python311\\site-packages\\statsmodels\\tsa\\base\\tsa_model.py:473: ValueWarning: A date index has been provided, but it has no associated frequency information and so will be ignored when e.g. forecasting.\n",
      "  self._init_dates(dates, freq)\n",
      "C:\\Users\\Subham\\AppData\\Local\\Packages\\PythonSoftwareFoundation.Python.3.11_qbz5n2kfra8p0\\LocalCache\\local-packages\\Python311\\site-packages\\statsmodels\\tsa\\base\\tsa_model.py:473: ValueWarning: A date index has been provided, but it has no associated frequency information and so will be ignored when e.g. forecasting.\n",
      "  self._init_dates(dates, freq)\n"
     ]
    }
   ],
   "source": [
    "import pandas as pd\n",
    "import numpy as np\n",
    "from statsmodels.tsa.statespace.sarimax import SARIMAX\n",
    "\n",
    "# # 🧹 Step 1: Load and prepare the data\n",
    "# df['Date'] = pd.to_datetime(df['Date'], format='%d-%m-%Y %H:%M')\n",
    "# df.set_index('Date', inplace=True)\n",
    "\n",
    "# 🌫️ Step 2: Target series and clean data\n",
    "ts = df['pm25']\n",
    "ts_valid = ts.dropna()\n",
    "\n",
    "# 🧽 Step 3: Optional downsampling to reduce memory load\n",
    "# Use this only if hourly granularity isn't strictly needed\n",
    "# ts_valid = ts_valid.resample('3H').mean().dropna()\n",
    "\n",
    "# ⚙️ Step 4: Fit SARIMA with low_memory=True\n",
    "model = SARIMAX(ts_valid, order=(1,1,1), seasonal_order=(1,1,1,24), enforce_stationarity=False, enforce_invertibility=False)\n",
    "results = model.fit(disp=False, low_memory=True)\n",
    "\n",
    "# 🔍 Step 5: Reindex to match original resolution for prediction\n",
    "# Fill missing timestamps with NaNs at original frequency\n",
    "ts_full = ts.copy()\n",
    "ts_pred = results.predict(start=ts_full.index[0], end=ts_full.index[-1])\n",
    "\n",
    "# 🧩 Step 6: Fill NaNs with predicted values\n",
    "ts_imputed = ts_full.copy()\n",
    "ts_imputed[ts_imputed.isna()] = ts_pred[ts_imputed.isna()]\n",
    "df['pm25_sarima'] = ts_imputed"
   ]
  },
  {
   "cell_type": "code",
   "execution_count": null,
   "id": "a56d9a2a",
   "metadata": {},
   "outputs": [],
   "source": [
    "df.to_csv(\"SArima.csv\")"
   ]
  },
  {
   "cell_type": "code",
   "execution_count": null,
   "id": "c10ec6ee",
   "metadata": {},
   "outputs": [],
   "source": []
  }
 ],
 "metadata": {
  "kernelspec": {
   "display_name": "Python 3",
   "language": "python",
   "name": "python3"
  },
  "language_info": {
   "codemirror_mode": {
    "name": "ipython",
    "version": 3
   },
   "file_extension": ".py",
   "mimetype": "text/x-python",
   "name": "python",
   "nbconvert_exporter": "python",
   "pygments_lexer": "ipython3",
   "version": "3.11.9"
  }
 },
 "nbformat": 4,
 "nbformat_minor": 5
}
