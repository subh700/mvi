{
 "cells": [
  {
   "cell_type": "code",
   "execution_count": 1,
   "id": "9f60c1a7",
   "metadata": {},
   "outputs": [],
   "source": [
    "import pandas as pd\n",
    "from statsmodels.tsa.arima.model import ARIMA"
   ]
  },
  {
   "cell_type": "code",
   "execution_count": 2,
   "id": "92b3efcc",
   "metadata": {},
   "outputs": [
    {
     "data": {
      "text/html": [
       "<div>\n",
       "<style scoped>\n",
       "    .dataframe tbody tr th:only-of-type {\n",
       "        vertical-align: middle;\n",
       "    }\n",
       "\n",
       "    .dataframe tbody tr th {\n",
       "        vertical-align: top;\n",
       "    }\n",
       "\n",
       "    .dataframe thead th {\n",
       "        text-align: right;\n",
       "    }\n",
       "</style>\n",
       "<table border=\"1\" class=\"dataframe\">\n",
       "  <thead>\n",
       "    <tr style=\"text-align: right;\">\n",
       "      <th></th>\n",
       "      <th>Date</th>\n",
       "      <th>pm25</th>\n",
       "    </tr>\n",
       "  </thead>\n",
       "  <tbody>\n",
       "    <tr>\n",
       "      <th>0</th>\n",
       "      <td>04-02-2019 19:00</td>\n",
       "      <td>70.52</td>\n",
       "    </tr>\n",
       "    <tr>\n",
       "      <th>1</th>\n",
       "      <td>04-02-2019 20:00</td>\n",
       "      <td>61.39</td>\n",
       "    </tr>\n",
       "    <tr>\n",
       "      <th>2</th>\n",
       "      <td>04-02-2019 21:00</td>\n",
       "      <td>59.94</td>\n",
       "    </tr>\n",
       "    <tr>\n",
       "      <th>3</th>\n",
       "      <td>04-02-2019 22:00</td>\n",
       "      <td>76.44</td>\n",
       "    </tr>\n",
       "    <tr>\n",
       "      <th>4</th>\n",
       "      <td>04-02-2019 23:00</td>\n",
       "      <td>98.54</td>\n",
       "    </tr>\n",
       "    <tr>\n",
       "      <th>...</th>\n",
       "      <td>...</td>\n",
       "      <td>...</td>\n",
       "    </tr>\n",
       "    <tr>\n",
       "      <th>33531</th>\n",
       "      <td>02-12-2022 22:00</td>\n",
       "      <td>115.37</td>\n",
       "    </tr>\n",
       "    <tr>\n",
       "      <th>33532</th>\n",
       "      <td>02-12-2022 23:00</td>\n",
       "      <td>104.06</td>\n",
       "    </tr>\n",
       "    <tr>\n",
       "      <th>33533</th>\n",
       "      <td>03-12-2022 00:00</td>\n",
       "      <td>110.59</td>\n",
       "    </tr>\n",
       "    <tr>\n",
       "      <th>33534</th>\n",
       "      <td>03-12-2022 01:00</td>\n",
       "      <td>122.87</td>\n",
       "    </tr>\n",
       "    <tr>\n",
       "      <th>33535</th>\n",
       "      <td>03-12-2022 02:00</td>\n",
       "      <td>122.71</td>\n",
       "    </tr>\n",
       "  </tbody>\n",
       "</table>\n",
       "<p>33536 rows × 2 columns</p>\n",
       "</div>"
      ],
      "text/plain": [
       "                   Date    pm25\n",
       "0      04-02-2019 19:00   70.52\n",
       "1      04-02-2019 20:00   61.39\n",
       "2      04-02-2019 21:00   59.94\n",
       "3      04-02-2019 22:00   76.44\n",
       "4      04-02-2019 23:00   98.54\n",
       "...                 ...     ...\n",
       "33531  02-12-2022 22:00  115.37\n",
       "33532  02-12-2022 23:00  104.06\n",
       "33533  03-12-2022 00:00  110.59\n",
       "33534  03-12-2022 01:00  122.87\n",
       "33535  03-12-2022 02:00  122.71\n",
       "\n",
       "[33536 rows x 2 columns]"
      ]
     },
     "execution_count": 2,
     "metadata": {},
     "output_type": "execute_result"
    }
   ],
   "source": [
    "df=pd.read_csv(\"Ankleshwar.csv\")\n",
    "df=df.iloc[:,1:]\n",
    "df"
   ]
  },
  {
   "cell_type": "code",
   "execution_count": 3,
   "id": "5c29ba07",
   "metadata": {},
   "outputs": [
    {
     "name": "stderr",
     "output_type": "stream",
     "text": [
      "C:\\Users\\Subham\\AppData\\Local\\Packages\\PythonSoftwareFoundation.Python.3.11_qbz5n2kfra8p0\\LocalCache\\local-packages\\Python311\\site-packages\\statsmodels\\tsa\\base\\tsa_model.py:473: ValueWarning: A date index has been provided, but it has no associated frequency information and so will be ignored when e.g. forecasting.\n",
      "  self._init_dates(dates, freq)\n",
      "C:\\Users\\Subham\\AppData\\Local\\Packages\\PythonSoftwareFoundation.Python.3.11_qbz5n2kfra8p0\\LocalCache\\local-packages\\Python311\\site-packages\\statsmodels\\tsa\\base\\tsa_model.py:473: ValueWarning: A date index has been provided, but it has no associated frequency information and so will be ignored when e.g. forecasting.\n",
      "  self._init_dates(dates, freq)\n",
      "C:\\Users\\Subham\\AppData\\Local\\Packages\\PythonSoftwareFoundation.Python.3.11_qbz5n2kfra8p0\\LocalCache\\local-packages\\Python311\\site-packages\\statsmodels\\tsa\\base\\tsa_model.py:473: ValueWarning: A date index has been provided, but it has no associated frequency information and so will be ignored when e.g. forecasting.\n",
      "  self._init_dates(dates, freq)\n"
     ]
    }
   ],
   "source": [
    "df['Date'] = pd.to_datetime(df['Date'], format='%d-%m-%Y %H:%M')\n",
    "df.set_index('Date', inplace=True)\n",
    "\n",
    "# Target series\n",
    "ts = df['pm25']\n",
    "ts_valid = ts.dropna()\n",
    "\n",
    "# Fit ARIMA model — you may optimize order (p,d,q)\n",
    "# p: the number of lag observations in the model, also known as the lag order.\n",
    "# d: the number of times the raw observations are differenced; also known as the degree of differencing.\n",
    "# q: the size of the moving average window, also known as the order of the moving average.\n",
    "model = ARIMA(ts_valid, order=(2,1,2))  # (p,d,q) can be tuned\n",
    "results = model.fit()\n",
    "\n",
    "# Forecast over entire index range\n",
    "ts_pred = results.predict(start=ts.index[0], end=ts.index[-1])\n",
    "\n",
    "# Impute NaNs in original series\n",
    "ts_imputed = ts.copy()\n",
    "ts_imputed[ts_imputed.isna()] = ts_pred[ts_imputed.isna()]\n",
    "df['pm25_arima'] = ts_imputed"
   ]
  },
  {
   "cell_type": "code",
   "execution_count": 6,
   "id": "a56d9a2a",
   "metadata": {},
   "outputs": [],
   "source": [
    "df.to_csv(\"Arima.csv\")"
   ]
  },
  {
   "cell_type": "code",
   "execution_count": null,
   "id": "2968637d",
   "metadata": {},
   "outputs": [],
   "source": []
  }
 ],
 "metadata": {
  "kernelspec": {
   "display_name": "Python 3",
   "language": "python",
   "name": "python3"
  },
  "language_info": {
   "codemirror_mode": {
    "name": "ipython",
    "version": 3
   },
   "file_extension": ".py",
   "mimetype": "text/x-python",
   "name": "python",
   "nbconvert_exporter": "python",
   "pygments_lexer": "ipython3",
   "version": "3.11.9"
  }
 },
 "nbformat": 4,
 "nbformat_minor": 5
}
